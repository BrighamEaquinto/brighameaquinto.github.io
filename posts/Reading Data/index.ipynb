{
  "cells": [
    {
      "cell_type": "raw",
      "metadata": {},
      "source": [
        "---\n",
        "title: \"Reading Data\"\n",
        "author: \"Brigham Eaquinto\"\n",
        "date: \"Week 2\"\n",
        "categories: [R]\n",
        "---"
      ],
      "id": "8cb7da32"
    },
    {
      "cell_type": "markdown",
      "metadata": {},
      "source": [
        "This will teach about how to get a dataset into RStudio so that we can use it. \n",
        "\n",
        "There are different types of data, we won't get into the nitty-gritty parts of it, but there is structured, semi-structured, and ustructured data. We will be playing around with structured data (think excel files). Examples of the other types of data are pictures, video, and audio files. \n"
      ],
      "id": "24f19266"
    },
    {
      "cell_type": "code",
      "metadata": {},
      "source": [
        "#| eval: false\n",
        ":::::::::::::: {.columns}\n",
        "::: {.column width=\\\"50%\"\\}\n",
        "First column commentary, code chunks, images, graphs, and charts\n",
        ":::\n",
        "::: {.column width=\\\"50%\"\\}\n",
        "2nd column stuff\n",
        ":::\n",
        "::::::::::::::"
      ],
      "id": "b3ba80e8",
      "execution_count": null,
      "outputs": []
    }
  ],
  "metadata": {
    "kernelspec": {
      "name": "python3",
      "language": "python",
      "display_name": "Python 3 (ipykernel)"
    }
  },
  "nbformat": 4,
  "nbformat_minor": 5
}